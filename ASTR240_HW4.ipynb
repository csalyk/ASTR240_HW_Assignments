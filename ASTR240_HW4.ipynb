{
 "cells": [
  {
   "cell_type": "markdown",
   "metadata": {},
   "source": [
    "## <font color=\"red\">Student name:</font>"
   ]
  },
  {
   "cell_type": "code",
   "execution_count": 1,
   "metadata": {},
   "outputs": [
    {
     "name": "stdout",
     "output_type": "stream",
     "text": [
      "Populating the interactive namespace from numpy and matplotlib\n"
     ]
    }
   ],
   "source": [
    "#Start all notebooks with this line.  It sets a lot of variables to values we want to use,\n",
    "#and reads in some important packages of routines, too.\n",
    "%pylab inline"
   ]
  },
  {
   "cell_type": "markdown",
   "metadata": {},
   "source": [
    "## Question 1: Chapter 2, exercise 12"
   ]
  },
  {
   "cell_type": "markdown",
   "metadata": {},
   "source": [
    "### Repeat Problem 14 from chapter 1, but now compute an associated error.  If the magnitude of the standard is 9.000, compute the magnitude of the unknown, but now also compute the uncertainty of your result, in magnitudes.  Again, data numbers represent the number of photons counted in each pixel.\n",
    "\n",
    "The math here is fairly involved, so I highly recommend doing this work on paper.  If you wish to then convert it to Markdown, you can.  Otherwise, you are also welcome to hand in your written work."
   ]
  },
  {
   "cell_type": "code",
   "execution_count": null,
   "metadata": {},
   "outputs": [],
   "source": []
  },
  {
   "cell_type": "markdown",
   "metadata": {},
   "source": [
    "<font color=\"red\">*Comments from instructor:*</font>"
   ]
  },
  {
   "cell_type": "markdown",
   "metadata": {},
   "source": [
    "## Question 2: Chapter 3, exercise 1"
   ]
  },
  {
   "cell_type": "markdown",
   "metadata": {},
   "source": [
    "### Two objects differ in RA by an amount $\\Delta \\alpha$, and have declinations $\\delta_1$ and $\\delta_2$.  Show that their angular separation, $\\theta$, is given by:\n",
    "\n",
    "$\\cos \\theta = \\sin \\delta_1 \\sin \\delta_2 + \\cos \\delta_1 \\cos \\delta_2 \\cos \\Delta \\alpha$"
   ]
  },
  {
   "cell_type": "code",
   "execution_count": null,
   "metadata": {},
   "outputs": [],
   "source": []
  },
  {
   "cell_type": "markdown",
   "metadata": {},
   "source": [
    "<font color=\"red\">*Comments from instructor:*</font>"
   ]
  },
  {
   "cell_type": "markdown",
   "metadata": {},
   "source": [
    "## Question 3: Chapter 3, exercise 2\n",
    "\n",
    "### Which city is closer to New York (74$^\\circ$ W, 41$^\\circ$N): Los Angeles (118$^\\circ$ W, 34$^\\circ$N) or Mexico City (99$^\\circ$ W, 19$^\\circ$N)?  By how much?  (The radius of the Earth is 6300 km).  Hint: You'll probably want to use the result from the last question!"
   ]
  },
  {
   "cell_type": "code",
   "execution_count": null,
   "metadata": {
    "collapsed": true
   },
   "outputs": [],
   "source": []
  },
  {
   "cell_type": "markdown",
   "metadata": {},
   "source": [
    "<font color=\"red\">*Comments from instructor:*</font>"
   ]
  },
  {
   "cell_type": "markdown",
   "metadata": {},
   "source": [
    "## Question 4: Chapter 3, exercise 3\n",
    "\n",
    "### A. Kustner conducted one of the first systematic radial velocity studies.  In 1905, he found that the velocity of stars in the ecliptic plane varied with an amplitude of $29.617 \\pm 0.057$ km/s in the course of a sidereal year.  Assume that the Earth's orbit is circular and use this information to derive the length (and uncertainty) of the au in kilometers."
   ]
  },
  {
   "cell_type": "code",
   "execution_count": null,
   "metadata": {},
   "outputs": [],
   "source": []
  },
  {
   "cell_type": "markdown",
   "metadata": {},
   "source": [
    "<font color=\"red\">*Comments from instructor:*</font>"
   ]
  },
  {
   "cell_type": "markdown",
   "metadata": {},
   "source": [
    "## Question 5: Chapter 3, exercise 5\n",
    "\n",
    "### The field of view of the Vassar 32-inch CCD camera is a square 1000 seconds of arc on each side.  Use calculations to fill in the width of the field in the RA coordinate (i.e., in H:M:S units) when the telescope is pointed at declinations listed in the table.\n",
    "\n",
    "Note: It is possible to have astropy do these calculations for you.  Do NOT use astropy to do this work for you.  Perform these calculations yourself."
   ]
  },
  {
   "cell_type": "code",
   "execution_count": null,
   "metadata": {},
   "outputs": [],
   "source": []
  },
  {
   "cell_type": "markdown",
   "metadata": {},
   "source": [
    "|declination(degrees)| Width of field (minutes:seconds of RA) |\n",
    "| ----------- | ----------- |\n",
    "| 0           |    1:06.7   |\n",
    "| 20          |             |\n",
    "| 40          |             |\n",
    "| 60          |             |\n",
    "| 70          |             |\n",
    "| 80          |             |\n",
    "| 85          |             |"
   ]
  },
  {
   "cell_type": "markdown",
   "metadata": {},
   "source": [
    "<font color=\"red\">*Comments from instructor:*</font>"
   ]
  },
  {
   "cell_type": "markdown",
   "metadata": {},
   "source": [
    "## Question 6: Chapter 3, exercise 8\n",
    "### A certain supernova remnant in our Galaxy is an expanding spherical shell of glowing gas.  The angular diameter of the remnant, as seen from Earth, is 22.0 arc seconds.  The parallax of the remnant is known to be 4.17 mas from space telesocpe measurements.  Compute its distance in parsecs and radius in astronomical units."
   ]
  },
  {
   "cell_type": "code",
   "execution_count": null,
   "metadata": {},
   "outputs": [],
   "source": []
  },
  {
   "cell_type": "markdown",
   "metadata": {},
   "source": [
    "<font color=\"red\">*Comments from instructor:*</font>"
   ]
  },
  {
   "cell_type": "markdown",
   "metadata": {},
   "source": [
    "## Question 7: Chapter 3, exercise 9\n",
    "\n",
    "### An astronomer obtains a spectrum of the central part of the above remnant, which shows emission lines. Close examination of the line due to hydrogen near wavelength 656 nm reveals that it is actually double.  The components, presumably from the front and back of the shell, are separated by 0.160 nm."
   ]
  },
  {
   "cell_type": "markdown",
   "metadata": {},
   "source": [
    "### (a) With what velocity is the nebula expanding?"
   ]
  },
  {
   "cell_type": "code",
   "execution_count": null,
   "metadata": {},
   "outputs": [],
   "source": []
  },
  {
   "cell_type": "markdown",
   "metadata": {},
   "source": [
    "### (b)Assuming this has remained constant, estimate the age of the remnant"
   ]
  },
  {
   "cell_type": "code",
   "execution_count": null,
   "metadata": {},
   "outputs": [],
   "source": []
  },
  {
   "cell_type": "markdown",
   "metadata": {},
   "source": [
    "### (c) The astronomer compares images of the remnant taken 60 years apart, and finds that the nebula has grown in diameter from 18.4 to 22.0 arcsec.  Use these data to make a new computation for the distance of the remnant.  Note: Check your answer by making sure you find something similar to what you found in the previous question."
   ]
  },
  {
   "cell_type": "code",
   "execution_count": null,
   "metadata": {},
   "outputs": [],
   "source": []
  },
  {
   "cell_type": "markdown",
   "metadata": {},
   "source": [
    "<font color=\"red\">*Comments from instructor:*</font>"
   ]
  },
  {
   "cell_type": "markdown",
   "metadata": {},
   "source": [
    "## <font color=\"red\"> Grade </font>"
   ]
  },
  {
   "cell_type": "markdown",
   "metadata": {},
   "source": [
    "<font color=\"red\"> Calculations: </font>"
   ]
  },
  {
   "cell_type": "markdown",
   "metadata": {},
   "source": [
    "<font color=\"red\"> Concepts: </font>"
   ]
  },
  {
   "cell_type": "markdown",
   "metadata": {},
   "source": [
    "<font color=\"red\"> Communication: </font>"
   ]
  },
  {
   "cell_type": "markdown",
   "metadata": {},
   "source": [
    "<font color=\"red\"> Total grade: </font>"
   ]
  },
  {
   "cell_type": "code",
   "execution_count": null,
   "metadata": {},
   "outputs": [],
   "source": []
  }
 ],
 "metadata": {
  "kernelspec": {
   "display_name": "Python 3 (ipykernel)",
   "language": "python",
   "name": "python3"
  },
  "language_info": {
   "codemirror_mode": {
    "name": "ipython",
    "version": 3
   },
   "file_extension": ".py",
   "mimetype": "text/x-python",
   "name": "python",
   "nbconvert_exporter": "python",
   "pygments_lexer": "ipython3",
   "version": "3.9.12"
  }
 },
 "nbformat": 4,
 "nbformat_minor": 1
}
