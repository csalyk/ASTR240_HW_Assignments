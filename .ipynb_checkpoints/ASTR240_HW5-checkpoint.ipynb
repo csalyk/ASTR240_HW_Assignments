{
 "cells": [
  {
   "cell_type": "markdown",
   "metadata": {
    "id": "l8n33zMta2bn"
   },
   "source": [
    "## <font color=\"red\">Student name:</font>"
   ]
  },
  {
   "cell_type": "code",
   "execution_count": null,
   "metadata": {
    "id": "uLA1YM_Fa2bp",
    "outputId": "849d8832-323a-40da-9de1-e1b3c6331532"
   },
   "outputs": [
    {
     "name": "stdout",
     "output_type": "stream",
     "text": [
      "Populating the interactive namespace from numpy and matplotlib\n"
     ]
    }
   ],
   "source": [
    "#Start all notebooks with this line.  It sets a lot of variables to values we want to use,\n",
    "#and reads in some important packages of routines, too.\n",
    "%pylab inline"
   ]
  },
  {
   "cell_type": "markdown",
   "metadata": {
    "id": "LPVd7qlda2bt"
   },
   "source": [
    "### Question 1: Distances, and errors\n",
    "\n",
    "### (a) Use propagation of errors and the equation relating parallax to distance (Equation 3.14 - note that it's missing an equals sign) to find an expression for $\\sigma_r$, the error in distance, given a parallax angle measurement ($p$) with error bar ($\\sigma_p$).  "
   ]
  },
  {
   "cell_type": "code",
   "execution_count": null,
   "metadata": {},
   "outputs": [],
   "source": []
  },
  {
   "cell_type": "markdown",
   "metadata": {
    "id": "2JnjAecvksMu"
   },
   "source": [
    "<font color=\"red\">*Comments from instructor:*</font>"
   ]
  },
  {
   "cell_type": "markdown",
   "metadata": {
    "id": "knIdbmbVa2bx"
   },
   "source": [
    "### (b) (Also Chaper 4, exercise 2): $\\alpha$ Cen is the nearest star.  In the southern sky, it forms a striking pair with $\\beta$ Cen.  How far away is $\\beta$ Cen from the Earth?  *Cite the source* of this information (reference to the actual measurement - don't just say SIMBAD!).  A complete citation should have the first author, year, journal name, journal number, and page number."
   ]
  },
  {
   "cell_type": "code",
   "execution_count": null,
   "metadata": {
    "id": "rjVo_L-Wa2bz"
   },
   "outputs": [],
   "source": []
  },
  {
   "cell_type": "markdown",
   "metadata": {
    "id": "9uWqopSHkrVO"
   },
   "source": [
    "<font color=\"red\">*Comments from instructor:*</font>"
   ]
  },
  {
   "cell_type": "markdown",
   "metadata": {
    "id": "zbReObbKa2b0"
   },
   "source": [
    "### (c) Use the parallax error (given in square brackets next to the parallax measurement) and your expression from part (a) to also find the *error* in the distance to $\\beta$ Cen.  (Hint: Make sure you always convert your parallax measurements to units of arcsec)"
   ]
  },
  {
   "cell_type": "code",
   "execution_count": null,
   "metadata": {
    "collapsed": true,
    "id": "jpowUPL6a2b1"
   },
   "outputs": [],
   "source": []
  },
  {
   "cell_type": "markdown",
   "metadata": {
    "id": "7Q27FK01a2b2"
   },
   "source": [
    "\n",
    "\n",
    "<font color=\"red\">*Comments from instructor:*</font>"
   ]
  },
  {
   "cell_type": "markdown",
   "metadata": {
    "id": "AVr6quoMa2b2"
   },
   "source": [
    "### (d) Check your distance error by running the following test.  Assume the parallax is the measured parallax *plus* the given error in parallax. Now recompute the distance using this parallax value, and compute the difference in distance between the answer to part (b) and the distance you computed here.  You should find that the difference is similar to the parallax error you computed in the previous question.  If it's not, go back and figure out where things went wrong. "
   ]
  },
  {
   "cell_type": "code",
   "execution_count": null,
   "metadata": {
    "id": "WTIljdU7a2b9"
   },
   "outputs": [],
   "source": []
  },
  {
   "cell_type": "markdown",
   "metadata": {
    "id": "h4K0Bk7Na2b-"
   },
   "source": [
    "<font color=\"red\">*Comments from instructor:*</font>"
   ]
  },
  {
   "cell_type": "markdown",
   "metadata": {},
   "source": [
    "### (e)  Take a moment to reflect on what you did in this question.  What might it teach you about the concept of error propagation?"
   ]
  },
  {
   "cell_type": "code",
   "execution_count": null,
   "metadata": {},
   "outputs": [],
   "source": []
  },
  {
   "cell_type": "markdown",
   "metadata": {},
   "source": [
    "<font color=\"red\">*Comments from instructor:*</font>"
   ]
  },
  {
   "cell_type": "markdown",
   "metadata": {
    "id": "NdRo3tT6a2b_"
   },
   "source": [
    "## Question 2: (Chapter 4, exercise 3, slightly modified): Use the SIMBAD site to investigate the star cluster NGC 7790.  \n",
    "\n",
    "### (a) Produce a finding chart for the cluster with the Aladin, Aladin Lite or Simplay applications, appropriate for Vassar's approximately 20 arcmin x 20 arcmin field of view. To add it to your notebook, follow the directions here: https://towardsdatascience.com/the-2-step-guide-to-upload-images-in-google-colab-b51348e882e4 Alternatively, you can print it out and bring it to class.\n"
   ]
  },
  {
   "cell_type": "code",
   "execution_count": null,
   "metadata": {},
   "outputs": [],
   "source": []
  },
  {
   "cell_type": "markdown",
   "metadata": {
    "id": "AKVtp5HRoc9B"
   },
   "source": [
    "<font color=\"red\">*Comments from instructor:*</font>"
   ]
  },
  {
   "cell_type": "markdown",
   "metadata": {
    "id": "UAklmnqZa2cG"
   },
   "source": [
    "### (b) Use VizieR to produce a list of all known and suspected variable stars within 8 arc minutes of the cluster center.  Identify the three stars (one is a close double) that are Cepheid variables.  Hint: Begin by \"Finding\" the catalog called \"General Catalogue of Variable Stars\", and opening it up. Then, search for the Target name \"NGC 7790\" with an appropriate search radius."
   ]
  },
  {
   "cell_type": "code",
   "execution_count": null,
   "metadata": {},
   "outputs": [],
   "source": []
  },
  {
   "cell_type": "markdown",
   "metadata": {
    "id": "t_q3LAgCofoC"
   },
   "source": [
    "<font color=\"red\">*Comments from instructor:*</font>"
   ]
  },
  {
   "cell_type": "markdown",
   "metadata": {
    "id": "fX5t-G1oa2cG"
   },
   "source": [
    "### (c) Find the name and apparent magnitude at maximum brightnesses of the non-double Cepheid. "
   ]
  },
  {
   "cell_type": "code",
   "execution_count": null,
   "metadata": {},
   "outputs": [],
   "source": []
  },
  {
   "cell_type": "markdown",
   "metadata": {
    "id": "qwNOtEB9ogeL"
   },
   "source": [
    "<font color=\"red\">*Comments from instructor:*</font>"
   ]
  },
  {
   "cell_type": "markdown",
   "metadata": {
    "id": "6TLK1MMEa2cI"
   },
   "source": [
    "### (d) Use SIMBAD/VizieR to look up the catalog entry in the Combined General Catalog of Variable Stars for this star (the non-double Cepheid) and record its period and epoch of maximum light.   Hint:  By default, VizieR will only show a few columns in the table.  Go back to where you searched for NGC 7790 in the GCVS and look through the column options to find and select \"Epoch for maximum light\" to add that to the displayed data."
   ]
  },
  {
   "cell_type": "code",
   "execution_count": null,
   "metadata": {},
   "outputs": [],
   "source": []
  },
  {
   "cell_type": "markdown",
   "metadata": {
    "id": "9kj_V_SHohOu"
   },
   "source": [
    "<font color=\"red\">*Comments from instructor:*</font>"
   ]
  },
  {
   "cell_type": "markdown",
   "metadata": {
    "id": "A4yK5tidjsXh"
   },
   "source": [
    "### (e) Use python code to predict the *universal* dates and times of maximum light for this star over the next month.  "
   ]
  },
  {
   "cell_type": "code",
   "execution_count": null,
   "metadata": {},
   "outputs": [],
   "source": []
  },
  {
   "cell_type": "markdown",
   "metadata": {
    "id": "FCE2Ej3lo-N1"
   },
   "source": [
    "<font color=\"red\">*Comments from instructor:*</font>\n"
   ]
  },
  {
   "cell_type": "markdown",
   "metadata": {
    "id": "xeGdTsAOo-Rp"
   },
   "source": [
    "### (f) Compute the phase (fraction of advance over a full period) the star will have at 9 pm *local time* on each day. (Note: We'll be in daylight savings time!)"
   ]
  },
  {
   "cell_type": "code",
   "execution_count": null,
   "metadata": {},
   "outputs": [],
   "source": []
  },
  {
   "cell_type": "markdown",
   "metadata": {
    "id": "pNDlYa8toiA6"
   },
   "source": [
    "<font color=\"red\">*Comments from instructor:*</font>\n",
    "\n",
    "\n"
   ]
  },
  {
   "cell_type": "markdown",
   "metadata": {
    "id": "Xxc6zKlpkCFR"
   },
   "source": [
    "### (g) Find the reference to a recent paper (use ADS) that discusses the distance to NGC 7790.  Report the first author, year, journal name, volume and page number for the reference.  Also, report the distance quoted in the reference."
   ]
  },
  {
   "cell_type": "code",
   "execution_count": null,
   "metadata": {},
   "outputs": [],
   "source": []
  },
  {
   "cell_type": "markdown",
   "metadata": {
    "id": "a9fUpX-Noiwz"
   },
   "source": [
    "<font color=\"red\">*Comments from instructor:*</font>"
   ]
  },
  {
   "cell_type": "markdown",
   "metadata": {
    "id": "OyDnT3r1a2cI"
   },
   "source": [
    "## <font color=\"red\"> Grade </font>"
   ]
  },
  {
   "cell_type": "markdown",
   "metadata": {
    "id": "w1xnti3Ca2cJ"
   },
   "source": [
    "<font color=\"red\"> Calculations: </font>"
   ]
  },
  {
   "cell_type": "markdown",
   "metadata": {
    "id": "S5pek6poa2cJ"
   },
   "source": [
    "<font color=\"red\"> Concepts: </font>"
   ]
  },
  {
   "cell_type": "markdown",
   "metadata": {
    "id": "GlmrhiIja2cJ"
   },
   "source": [
    "<font color=\"red\"> Communication: </font>"
   ]
  },
  {
   "cell_type": "markdown",
   "metadata": {
    "id": "fnChvJxBa2cJ"
   },
   "source": [
    "<font color=\"red\"> Total grade: </font>"
   ]
  },
  {
   "cell_type": "code",
   "execution_count": null,
   "metadata": {
    "id": "6bE5yLZHa2cK"
   },
   "outputs": [],
   "source": []
  }
 ],
 "metadata": {
  "colab": {
   "provenance": []
  },
  "kernelspec": {
   "display_name": "Python 3 (ipykernel)",
   "language": "python",
   "name": "python3"
  },
  "language_info": {
   "codemirror_mode": {
    "name": "ipython",
    "version": 3
   },
   "file_extension": ".py",
   "mimetype": "text/x-python",
   "name": "python",
   "nbconvert_exporter": "python",
   "pygments_lexer": "ipython3",
   "version": "3.9.12"
  }
 },
 "nbformat": 4,
 "nbformat_minor": 1
}
