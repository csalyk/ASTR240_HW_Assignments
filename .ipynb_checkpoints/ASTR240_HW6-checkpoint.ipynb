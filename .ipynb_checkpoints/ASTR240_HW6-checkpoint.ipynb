{
 "cells": [
  {
   "cell_type": "markdown",
   "metadata": {
    "id": "KEjyxSGPsO50"
   },
   "source": [
    "## <font color=\"red\">Student name:</font>"
   ]
  },
  {
   "cell_type": "code",
   "execution_count": null,
   "metadata": {
    "id": "UQh8GgOSsR14"
   },
   "outputs": [],
   "source": [
    "#Start all notebooks with this line.  It sets a lot of variables to values we want to use,\n",
    "#and reads in some important packages of routines, too.\n",
    "%pylab inline"
   ]
  },
  {
   "cell_type": "markdown",
   "metadata": {
    "id": "tfMnTgPGsQI0"
   },
   "source": [
    "### Question 1: Chapter 5, Exercise 8 \n",
    "\n",
    "### Compute the frame width (in arcmin) and pixel scale, a.k.a., plate scale (in arcsec per pixel) for CCD observations with the following telescope and instrument: aperture 1.0 m, focal ratio f/6.0.  CCD is 1024 x 1024 pixels; each pixel is 18 $\\mu$m square. \n"
   ]
  },
  {
   "cell_type": "code",
   "execution_count": null,
   "metadata": {
    "id": "zGmEaxDCsW4K"
   },
   "outputs": [],
   "source": []
  },
  {
   "cell_type": "markdown",
   "metadata": {
    "id": "V6N0-UuQsbXi"
   },
   "source": [
    "<font color=\"red\">*Comments from instructor:*</font>"
   ]
  },
  {
   "cell_type": "markdown",
   "metadata": {
    "id": "c5xrJ6Tuuozh"
   },
   "source": [
    "### Question 2: Chapter 5, Exercise 12, with supplement\n",
    "(a) Compute the diffraction limit of the Hubble Space Telescope (2.4-m diameter) in the ultraviolet (300 nm) and near infrared (2.0 $\\mu$m). \n",
    "\n"
   ]
  },
  {
   "cell_type": "code",
   "execution_count": null,
   "metadata": {
    "id": "HYRKlo06vTvV"
   },
   "outputs": [],
   "source": []
  },
  {
   "cell_type": "markdown",
   "metadata": {
    "id": "sHAgccGFvByh"
   },
   "source": [
    "(b) Compare with the diffraction limit of the human eye at 0.5 $\\mu$m"
   ]
  },
  {
   "cell_type": "code",
   "execution_count": null,
   "metadata": {
    "id": "e-423xuCvUMO"
   },
   "outputs": [],
   "source": []
  },
  {
   "cell_type": "markdown",
   "metadata": {
    "id": "WhzM3vV6vIQ8"
   },
   "source": [
    "(c) Compare with the diffraction limit at 2.0 $\\mu$m of a space telescope that has an 8-m diameter"
   ]
  },
  {
   "cell_type": "code",
   "execution_count": null,
   "metadata": {
    "id": "Jmp-KZCpvUnC"
   },
   "outputs": [],
   "source": []
  },
  {
   "cell_type": "markdown",
   "metadata": {
    "id": "nzEnE9Ypuy1g"
   },
   "source": [
    "(d) Compare with the diffraction limit of a 30-m ground-based telescope at 2.0 $\\mu$m."
   ]
  },
  {
   "cell_type": "code",
   "execution_count": null,
   "metadata": {
    "id": "QcusDJ7nvVE9"
   },
   "outputs": [],
   "source": []
  },
  {
   "cell_type": "markdown",
   "metadata": {
    "id": "Ey6zB_Xkuwr4"
   },
   "source": [
    "(e) Discuss what you learned"
   ]
  },
  {
   "cell_type": "markdown",
   "metadata": {
    "id": "l2-o-NXpu1pn"
   },
   "source": []
  },
  {
   "cell_type": "markdown",
   "metadata": {
    "id": "A46r3yS3u10H"
   },
   "source": [
    "<font color=\"red\">*Comments from instructor:*</font>\n",
    "\n"
   ]
  },
  {
   "cell_type": "markdown",
   "metadata": {
    "id": "U3AwybHBviuo"
   },
   "source": [
    "### Question 3: \n",
    "\n",
    "Suppose you are trying to image a planet orbiting a star with the Hubble Space Telescope.  The star (and planet) are at a distance from us of 100 parsec.  What is the smallest separation between the planet and star (in Astronomical Units) that would allow you to separate the planet from the star in an image?  Assume you are observing at a wavelength of 300 nm.\n",
    "\n"
   ]
  },
  {
   "cell_type": "code",
   "execution_count": null,
   "metadata": {
    "id": "138ybvyovsAy"
   },
   "outputs": [],
   "source": []
  },
  {
   "cell_type": "markdown",
   "metadata": {
    "id": "EFA47qDovssF"
   },
   "source": [
    "<font color=\"red\">*Comments from instructor:*</font>\n",
    "\n"
   ]
  },
  {
   "cell_type": "markdown",
   "metadata": {
    "id": "aU9vXW74vwLk"
   },
   "source": [
    "### Question 4:\n",
    "\n",
    "(a) In question 2 (Chapter 5, Exercise 12), you found the diffraction limit at 300 nm of the Hubble Space Telescope, which has a primary mirror with diameter 2.4 meters.  The Atacama Large Millimeter Array (ALMA) is a millimeter-wave interferometer, which combines the light from multiple small telescopes.  For interferometers, the diffraction limit is set by the longest distance between any two telescopes.  This distance is called a baseline length, which we'll call B.  Calculate B required for ALMA to have the same diffraction limit as the Hubble Space Telescope, if ALMA observes at a wavelength of 1 mm.    Read about the baseline lengths on the ALMA Wikipedia page to check that your answer makes sense.  "
   ]
  },
  {
   "cell_type": "code",
   "execution_count": null,
   "metadata": {
    "id": "b7K9mj5LwAux"
   },
   "outputs": [],
   "source": []
  },
  {
   "cell_type": "markdown",
   "metadata": {
    "id": "0hXwFHL8wBBW"
   },
   "source": [
    "(b) Comment on your answer.  Would it have been feasible to build a solid telescope with a diameter equal to this baseline length?  "
   ]
  },
  {
   "cell_type": "code",
   "execution_count": null,
   "metadata": {
    "id": "s55ju749wDp9"
   },
   "outputs": [],
   "source": []
  },
  {
   "cell_type": "markdown",
   "metadata": {
    "id": "a0cD8igDwEs1"
   },
   "source": [
    "<font color=\"red\">*Comments from instructor:*</font>"
   ]
  },
  {
   "cell_type": "markdown",
   "metadata": {
    "id": "6gTNUNh-wIfE"
   },
   "source": [
    "## Question 5:\n",
    "\n",
    "(a) Compute the diffraction limit (in arcsec) for the Vassar Class of 1951 observatory telescope, which has a 32'' (inch) primary mirror.   Assume you are observing at visible wavelengths, $\\lambda\\approx 0.6 \\,\\mu$m. \n"
   ]
  },
  {
   "cell_type": "code",
   "execution_count": null,
   "metadata": {
    "id": "Y25sY5slwbTL"
   },
   "outputs": [],
   "source": []
  },
  {
   "cell_type": "markdown",
   "metadata": {
    "id": "sBUhA9edwkZD"
   },
   "source": [
    "(b) Compare your answer to (a) to the typical size of a seeing-limited image at the observatory, which is about 2'' (arcsec).  Is the Class of 1951 observatory \"seeing-limited\" or \"diffraction-limited\"?"
   ]
  },
  {
   "cell_type": "markdown",
   "metadata": {
    "id": "T8R3iB4twq1W"
   },
   "source": []
  },
  {
   "cell_type": "markdown",
   "metadata": {
    "id": "MMKGwDBqwryZ"
   },
   "source": [
    "<font color=\"red\">*Comments from instructor:*</font>"
   ]
  },
  {
   "cell_type": "markdown",
   "metadata": {
    "id": "veEQYBsXsh1p"
   },
   "source": [
    "### <font color=\"red\"> Grade </font>"
   ]
  },
  {
   "cell_type": "markdown",
   "metadata": {
    "id": "qJCJzR9Xsk0p"
   },
   "source": [
    "<font color=\"red\"> Calculations: </font>"
   ]
  },
  {
   "cell_type": "markdown",
   "metadata": {
    "id": "3s1kbXr0slnQ"
   },
   "source": [
    "<font color=\"red\"> Concepts: </font>"
   ]
  },
  {
   "cell_type": "markdown",
   "metadata": {
    "id": "rBCqUPeysl_M"
   },
   "source": [
    "<font color=\"red\"> Communication: </font>"
   ]
  },
  {
   "cell_type": "markdown",
   "metadata": {
    "id": "fOf_9vIZsmXb"
   },
   "source": [
    "<font color=\"red\"> Total grade: </font>"
   ]
  }
 ],
 "metadata": {
  "colab": {
   "provenance": []
  },
  "kernelspec": {
   "display_name": "Python 3 (ipykernel)",
   "language": "python",
   "name": "python3"
  },
  "language_info": {
   "codemirror_mode": {
    "name": "ipython",
    "version": 3
   },
   "file_extension": ".py",
   "mimetype": "text/x-python",
   "name": "python",
   "nbconvert_exporter": "python",
   "pygments_lexer": "ipython3",
   "version": "3.9.12"
  }
 },
 "nbformat": 4,
 "nbformat_minor": 1
}
