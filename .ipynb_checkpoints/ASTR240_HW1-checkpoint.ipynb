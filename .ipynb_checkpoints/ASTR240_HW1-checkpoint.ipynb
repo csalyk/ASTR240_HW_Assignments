{
 "cells": [
  {
   "cell_type": "markdown",
   "metadata": {},
   "source": [
    "## <font color=\"red\">Student name:</font>"
   ]
  },
  {
   "cell_type": "code",
   "execution_count": 6,
   "metadata": {},
   "outputs": [
    {
     "name": "stdout",
     "output_type": "stream",
     "text": [
      "Populating the interactive namespace from numpy and matplotlib\n"
     ]
    }
   ],
   "source": [
    "#Start all notebooks with this line.  It sets a lot of variables to values we want to use,\n",
    "#and reads in some important packages of routines, too.\n",
    "%pylab inline"
   ]
  },
  {
   "cell_type": "markdown",
   "metadata": {},
   "source": [
    "## Question 1: Astronomical discoveries, and practice with colab/python"
   ]
  },
  {
   "cell_type": "markdown",
   "metadata": {},
   "source": [
    "Using the internet, research one astronomical discovery that interests you.  It can be one we discussed in class (e.g., discovery of dark matter, expansion of the universe, discovery of exoplanets), or something entirely new.  Use your research to answer the questions below."
   ]
  },
  {
   "cell_type": "markdown",
   "metadata": {},
   "source": [
    "### (a) In your own words, describe how one (or more) of the techniques we discussed in class (photometry, spectroscopy, imaging, or astrometry) was used to discover this result."
   ]
  },
  {
   "cell_type": "markdown",
   "metadata": {},
   "source": []
  },
  {
   "cell_type": "markdown",
   "metadata": {},
   "source": [
    "### (b) Find one physics equation that's relevant to this discovery. Use Markdown notation in the cell(s) below to write the equation and to write some notes explaining what it means and why it's relevant for this scientific result."
   ]
  },
  {
   "cell_type": "markdown",
   "metadata": {},
   "source": []
  },
  {
   "cell_type": "markdown",
   "metadata": {},
   "source": [
    "### (c) Perform some interesting calculation(s) using this equation (and/or make a plot using this equation).  Include some annotation describing what you're calculating, and why it's interesting."
   ]
  },
  {
   "cell_type": "code",
   "execution_count": null,
   "metadata": {
    "collapsed": true
   },
   "outputs": [],
   "source": []
  },
  {
   "cell_type": "markdown",
   "metadata": {},
   "source": [
    "<font color=\"red\">*Comments from instructor:*</font>"
   ]
  },
  {
   "cell_type": "markdown",
   "metadata": {},
   "source": [
    "## Question 2: (Chapter 1, exercise 2)"
   ]
  },
  {
   "cell_type": "markdown",
   "metadata": {},
   "source": [
    "Use python code to complete these calculations.  Be sure to express your final answers with reasonable numbers of significant digits, and to include some annotation/assessment.\n",
    "\n",
    "You might want to look up the astropy library, as it includes pre-programmed values for many important constants (like $c$, $h$, etc.)\n",
    "https://docs.astropy.org/en/stable/constants/index.html\n"
   ]
  },
  {
   "cell_type": "markdown",
   "metadata": {},
   "source": [
    "### (a) What wavelength photon would you need to ionize a hydrogen atom (ionization energy = 13.6 eV)? \n"
   ]
  },
  {
   "cell_type": "code",
   "execution_count": null,
   "metadata": {},
   "outputs": [],
   "source": []
  },
  {
   "cell_type": "markdown",
   "metadata": {},
   "source": [
    "### (b) Compute the temperature of the blackbody whose spectrum peaks at the wavelength you found in part (a)."
   ]
  },
  {
   "cell_type": "code",
   "execution_count": null,
   "metadata": {},
   "outputs": [],
   "source": []
  },
  {
   "cell_type": "markdown",
   "metadata": {},
   "source": [
    "<font color=\"red\">*Comments from instructor:*</font>"
   ]
  },
  {
   "cell_type": "markdown",
   "metadata": {},
   "source": [
    "## Question 3: (Chapter 1, exercise 3)"
   ]
  },
  {
   "cell_type": "markdown",
   "metadata": {},
   "source": [
    "### What are the units of the monochromatic brightness, $f_\\lambda$?"
   ]
  },
  {
   "cell_type": "markdown",
   "metadata": {},
   "source": []
  },
  {
   "cell_type": "markdown",
   "metadata": {},
   "source": [
    "<font color=\"red\">*Comments from instructor:*</font>"
   ]
  },
  {
   "cell_type": "markdown",
   "metadata": {},
   "source": [
    "## Question 4: (Chapter 1, exercise 4)"
   ]
  },
  {
   "cell_type": "markdown",
   "metadata": {},
   "source": [
    "### What is the value of the ratio $f_\\lambda/f_\\nu$ for any source?"
   ]
  },
  {
   "cell_type": "markdown",
   "metadata": {},
   "source": [
    "(Do not just write your final answer- make sure to show how you came to this answer)"
   ]
  },
  {
   "cell_type": "markdown",
   "metadata": {},
   "source": []
  },
  {
   "cell_type": "markdown",
   "metadata": {},
   "source": [
    "<font color=\"red\">*Comments from instructor:*</font>"
   ]
  },
  {
   "cell_type": "markdown",
   "metadata": {},
   "source": [
    "## Question 5: (Chapter 1, exercise 5):"
   ]
  },
  {
   "cell_type": "markdown",
   "metadata": {},
   "source": [
    "Consider an eclipsing binary star system viewed by a terrestrial observer located in the orbital plane of the two stars.  The orbit is so small that the observer sees this system as a single object of apparent brightness, $F$.  The larger star of the pair has a radius $R=1$ and effective temperature $T_1$, the smaller has radius $a$ and temperature $T_2$.  Because of mutual eclipses, $F$ is a periodic function of time called the light curve, $F(t)$.  The orbit is circular.  There are two brightness minima per orbit.  "
   ]
  },
  {
   "cell_type": "markdown",
   "metadata": {},
   "source": [
    "### (a) Regardless of the value of $a$, the primary (deeper) minimum always occurs when the hotter star is behind the cooler.  Explain why.  "
   ]
  },
  {
   "cell_type": "markdown",
   "metadata": {},
   "source": []
  },
  {
   "cell_type": "markdown",
   "metadata": {},
   "source": [
    "### (b) Assume both stars are Lambertian (i.e., appear, in projection, to be uniform disks).  If $F_{max}$ is the maximum brightness of the system, show that the relative brightness at the two minima of the light curve are:\n",
    "\\begin{align*}\n",
    "\\frac{F_1}{F_\\mathrm{max}}=\\frac{1}{1+b}\n",
    "\\end{align*}\n",
    "### when the smaller star is eclipsed by the larger\n",
    "\\begin{align*}\n",
    "\\frac{F_2}{F_\\mathrm{max}}=1-\\frac{a^2}{1+b}\n",
    "\\end{align*}\n",
    "### when the smaller transits in front of the larger.\n",
    "### Here, $b=a^2(\\frac{T_2}{T_1})^4$."
   ]
  },
  {
   "cell_type": "markdown",
   "metadata": {},
   "source": []
  },
  {
   "cell_type": "markdown",
   "metadata": {},
   "source": [
    "<font color=\"red\">*Comments from instructor:*</font>"
   ]
  },
  {
   "cell_type": "markdown",
   "metadata": {},
   "source": [
    "## <font color=\"red\"> Grade </font>"
   ]
  },
  {
   "cell_type": "markdown",
   "metadata": {},
   "source": [
    "<font color=\"red\"> Calculations: </font>"
   ]
  },
  {
   "cell_type": "markdown",
   "metadata": {},
   "source": [
    "<font color=\"red\"> Concepts: </font>"
   ]
  },
  {
   "cell_type": "markdown",
   "metadata": {},
   "source": [
    "<font color=\"red\"> Communication: </font>"
   ]
  },
  {
   "cell_type": "markdown",
   "metadata": {},
   "source": [
    "<font color=\"red\"> Total grade: </font>"
   ]
  }
 ],
 "metadata": {
  "kernelspec": {
   "display_name": "Python 3",
   "language": "python",
   "name": "python3"
  },
  "language_info": {
   "codemirror_mode": {
    "name": "ipython",
    "version": 3
   },
   "file_extension": ".py",
   "mimetype": "text/x-python",
   "name": "python",
   "nbconvert_exporter": "python",
   "pygments_lexer": "ipython3",
   "version": "3.7.3"
  }
 },
 "nbformat": 4,
 "nbformat_minor": 1
}
