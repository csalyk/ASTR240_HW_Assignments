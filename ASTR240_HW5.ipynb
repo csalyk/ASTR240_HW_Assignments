{
  "cells": [
    {
      "cell_type": "markdown",
      "metadata": {
        "id": "l8n33zMta2bn"
      },
      "source": [
        "## <font color=\"red\">Student name:</font>"
      ]
    },
    {
      "cell_type": "code",
      "execution_count": null,
      "metadata": {
        "id": "uLA1YM_Fa2bp",
        "outputId": "849d8832-323a-40da-9de1-e1b3c6331532"
      },
      "outputs": [
        {
          "name": "stdout",
          "output_type": "stream",
          "text": [
            "Populating the interactive namespace from numpy and matplotlib\n"
          ]
        }
      ],
      "source": [
        "#Start all notebooks with this line.  It sets a lot of variables to values we want to use,\n",
        "#and reads in some important packages of routines, too.\n",
        "%pylab inline"
      ]
    },
    {
      "cell_type": "markdown",
      "metadata": {
        "id": "LPVd7qlda2bt"
      },
      "source": [
        "### Question 1: Distances, and errors\n",
        "\n",
        "### (a) Use propagation of errors and the equation relating parallax to distance (Equation 3.14 - note that it's missing an equals sign) to find an expression for $\\sigma_r$, the error in distance, given a parallax angle measurement ($p$) with error bar ($\\sigma_p$).  "
      ]
    },
    {
      "cell_type": "markdown",
      "source": [],
      "metadata": {
        "id": "arPmVRyjfGdK"
      }
    },
    {
      "cell_type": "markdown",
      "source": [
        "<font color=\"red\">*Comments from instructor:*</font>"
      ],
      "metadata": {
        "id": "2JnjAecvksMu"
      }
    },
    {
      "cell_type": "markdown",
      "metadata": {
        "id": "knIdbmbVa2bx"
      },
      "source": [
        "### (b) (Also Chaper 4, exercise 2): $\\alpha$ Cen is the nearest star.  In the southern sky, it forms a striking pair with $\\beta$ Cen.  How far away is $\\beta$ Cen?  *Cite the source* of this information (reference to the actual measurement - don't just say SIMBAD!)."
      ]
    },
    {
      "cell_type": "code",
      "execution_count": null,
      "metadata": {
        "id": "rjVo_L-Wa2bz"
      },
      "outputs": [],
      "source": []
    },
    {
      "cell_type": "markdown",
      "source": [
        "<font color=\"red\">*Comments from instructor:*</font>"
      ],
      "metadata": {
        "id": "9uWqopSHkrVO"
      }
    },
    {
      "cell_type": "markdown",
      "metadata": {
        "id": "zbReObbKa2b0"
      },
      "source": [
        "## (c) Use the parallax error (given in square brackets next to the parallax measurement) and your expression from part (a) to also find the *error* in the distance to $\\beta$ Cen.  (Hint: Make sure you always convert your parallax measurements to units of arcsec)"
      ]
    },
    {
      "cell_type": "code",
      "execution_count": null,
      "metadata": {
        "collapsed": true,
        "id": "jpowUPL6a2b1"
      },
      "outputs": [],
      "source": []
    },
    {
      "cell_type": "markdown",
      "metadata": {
        "id": "7Q27FK01a2b2"
      },
      "source": [
        "\n",
        "\n",
        "<font color=\"red\">*Comments from instructor:*</font>"
      ]
    },
    {
      "cell_type": "markdown",
      "metadata": {
        "id": "AVr6quoMa2b2"
      },
      "source": [
        "## (d) Check your distance error by running the following test.  Assume the parallax is the measured parallax *plus* the given error in parallax. Now recompute the distance using this parallax value, and compute the difference in distance between the answer to part (b) and the distance you computed here.  You should find that the difference is similar to the parallax error you computed in the previous question.  If it's not, go back and figure out where things went wrong.  (Take a moment to reflect on what you did in this question.  It is meant to give you an idea of what propagation of errors means.)"
      ]
    },
    {
      "cell_type": "code",
      "execution_count": null,
      "metadata": {
        "id": "WTIljdU7a2b9"
      },
      "outputs": [],
      "source": []
    },
    {
      "cell_type": "markdown",
      "metadata": {
        "id": "h4K0Bk7Na2b-"
      },
      "source": [
        "<font color=\"red\">*Comments from instructor:*</font>"
      ]
    },
    {
      "cell_type": "markdown",
      "metadata": {
        "id": "NdRo3tT6a2b_"
      },
      "source": [
        "## Question 2: (Chapter 4, exercise 3, slightly modified): Use the SIMBAD site to investigate the star cluster NGC 7790.  \n",
        "\n",
        "### (a) Produce a finding chart for the cluster with the Aladin or Simplay application, appropriate for Vassar's approximately 20 arcmin x 20 arcmin field of view. To add it to your notebook, follow the directions here: https://towardsdatascience.com/the-2-step-guide-to-upload-images-in-google-colab-b51348e882e4 Alternatively, you can print it out and bring it to class.\n"
      ]
    },
    {
      "cell_type": "markdown",
      "source": [],
      "metadata": {
        "id": "BxhQsRx_oczO"
      }
    },
    {
      "cell_type": "markdown",
      "source": [
        "<font color=\"red\">*Comments from instructor:*</font>"
      ],
      "metadata": {
        "id": "AKVtp5HRoc9B"
      }
    },
    {
      "cell_type": "markdown",
      "metadata": {
        "id": "UAklmnqZa2cG"
      },
      "source": [
        "### (b) Use VizieR to produce a list of all known and suspected variable stars within 8 arc minutes of the cluster center.  Identify the three stars (one is a close double) that are Cepheid variables."
      ]
    },
    {
      "cell_type": "markdown",
      "source": [],
      "metadata": {
        "id": "0g6qJJ9Zjej9"
      }
    },
    {
      "cell_type": "markdown",
      "source": [
        "<font color=\"red\">*Comments from instructor:*</font>"
      ],
      "metadata": {
        "id": "t_q3LAgCofoC"
      }
    },
    {
      "cell_type": "markdown",
      "metadata": {
        "id": "fX5t-G1oa2cG"
      },
      "source": [
        "### (c) Find the name and apparent magnitude at maximum brightneses of the non-double Cepheid."
      ]
    },
    {
      "cell_type": "markdown",
      "source": [],
      "metadata": {
        "id": "aiVPlpTUjftl"
      }
    },
    {
      "cell_type": "markdown",
      "source": [
        "<font color=\"red\">*Comments from instructor:*</font>"
      ],
      "metadata": {
        "id": "qwNOtEB9ogeL"
      }
    },
    {
      "cell_type": "markdown",
      "metadata": {
        "id": "6TLK1MMEa2cI"
      },
      "source": [
        "### (d) Use SIMBAD/VizieR to look up the catalog entry in the Combined General Catalog of Variable Stars for this star and record its period and epoch of maximum light."
      ]
    },
    {
      "cell_type": "markdown",
      "source": [],
      "metadata": {
        "id": "vJpk3MTyjqlt"
      }
    },
    {
      "cell_type": "markdown",
      "source": [
        "<font color=\"red\">*Comments from instructor:*</font>"
      ],
      "metadata": {
        "id": "9kj_V_SHohOu"
      }
    },
    {
      "cell_type": "markdown",
      "source": [
        "### (e) Use python code to predict the *universal* dates and times of maximum light for this star over the next month.  "
      ],
      "metadata": {
        "id": "A4yK5tidjsXh"
      }
    },
    {
      "cell_type": "markdown",
      "source": [],
      "metadata": {
        "id": "yXFaUBXeo-Ks"
      }
    },
    {
      "cell_type": "markdown",
      "source": [
        "<font color=\"red\">*Comments from instructor:*</font>\n"
      ],
      "metadata": {
        "id": "FCE2Ej3lo-N1"
      }
    },
    {
      "cell_type": "markdown",
      "source": [
        "### (f) Compute the phase (fraction of advance over a full period) the star will have at 9 pm *local time* on each day. (Note: We'll be in daylight savings time!)"
      ],
      "metadata": {
        "id": "xeGdTsAOo-Rp"
      }
    },
    {
      "cell_type": "markdown",
      "source": [],
      "metadata": {
        "id": "APPEDcoUkCC3"
      }
    },
    {
      "cell_type": "markdown",
      "source": [
        "<font color=\"red\">*Comments from instructor:*</font>\n",
        "\n",
        "\n"
      ],
      "metadata": {
        "id": "pNDlYa8toiA6"
      }
    },
    {
      "cell_type": "markdown",
      "source": [
        "### (g) Find the reference to a recent paper (use ADS) that discusses the distance to NGC 7790.  Report the first author, year, journal name, volume and page number for the reference.  Also, report the distance quoted in the reference."
      ],
      "metadata": {
        "id": "Xxc6zKlpkCFR"
      }
    },
    {
      "cell_type": "markdown",
      "source": [],
      "metadata": {
        "id": "oZv3py5LkJJg"
      }
    },
    {
      "cell_type": "markdown",
      "source": [
        "<font color=\"red\">*Comments from instructor:*</font>"
      ],
      "metadata": {
        "id": "a9fUpX-Noiwz"
      }
    },
    {
      "cell_type": "markdown",
      "metadata": {
        "id": "OyDnT3r1a2cI"
      },
      "source": [
        "## <font color=\"red\"> Grade </font>"
      ]
    },
    {
      "cell_type": "markdown",
      "metadata": {
        "id": "w1xnti3Ca2cJ"
      },
      "source": [
        "<font color=\"red\"> Calculations: </font>"
      ]
    },
    {
      "cell_type": "markdown",
      "metadata": {
        "id": "S5pek6poa2cJ"
      },
      "source": [
        "<font color=\"red\"> Concepts: </font>"
      ]
    },
    {
      "cell_type": "markdown",
      "metadata": {
        "id": "GlmrhiIja2cJ"
      },
      "source": [
        "<font color=\"red\"> Communication: </font>"
      ]
    },
    {
      "cell_type": "markdown",
      "metadata": {
        "id": "fnChvJxBa2cJ"
      },
      "source": [
        "<font color=\"red\"> Total grade: </font>"
      ]
    },
    {
      "cell_type": "code",
      "execution_count": null,
      "metadata": {
        "id": "6bE5yLZHa2cK"
      },
      "outputs": [],
      "source": []
    }
  ],
  "metadata": {
    "kernelspec": {
      "display_name": "Python 3",
      "language": "python",
      "name": "python3"
    },
    "language_info": {
      "codemirror_mode": {
        "name": "ipython",
        "version": 3
      },
      "file_extension": ".py",
      "mimetype": "text/x-python",
      "name": "python",
      "nbconvert_exporter": "python",
      "pygments_lexer": "ipython3",
      "version": "3.7.3"
    },
    "colab": {
      "provenance": []
    }
  },
  "nbformat": 4,
  "nbformat_minor": 0
}