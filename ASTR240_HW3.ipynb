{
 "cells": [
  {
   "cell_type": "markdown",
   "metadata": {},
   "source": [
    "## <font color=\"red\">Student name:</font>"
   ]
  },
  {
   "cell_type": "code",
   "execution_count": 1,
   "metadata": {},
   "outputs": [
    {
     "name": "stdout",
     "output_type": "stream",
     "text": [
      "Populating the interactive namespace from numpy and matplotlib\n"
     ]
    }
   ],
   "source": [
    "#Start all notebooks with this line.  It sets a lot of variables to values we want to use,\n",
    "#and reads in some important packages of routines, too.\n",
    "%pylab inline"
   ]
  },
  {
   "cell_type": "markdown",
   "metadata": {},
   "source": [
    "## Question 1: Chapter 1, exercise 15"
   ]
  },
  {
   "cell_type": "markdown",
   "metadata": {},
   "source": [
    "### An astronomer is performing aperture photometry on a single unknown star and standard star in the same field.  (See text for image). The unknown star is the fainter one.  If the magnitude of the standard is 9.000, compute the magnitude of the unknown.  Actual data numbers are listed for the frame in the table.  Assume these are proportional to the number of photons counted in each pixel, and that the bandpass is narrow enough that all photons can be assumed to have the same energy. Remember that photometrically both star images have the same size."
   ]
  },
  {
   "cell_type": "code",
   "execution_count": null,
   "metadata": {
    "collapsed": true
   },
   "outputs": [],
   "source": []
  },
  {
   "cell_type": "markdown",
   "metadata": {},
   "source": [
    "<font color=\"red\">*Comments from instructor:*</font>"
   ]
  },
  {
   "cell_type": "markdown",
   "metadata": {},
   "source": [
    "## Question 2: Chapter 2, Exercise 2\n",
    "\n",
    "### I think the language is a bit ambiguous here. You should use the given samples to estimate the mean, median, variance, and standard deviation for the population from which it came. \n",
    "\n",
    "### For each of these quantities, compute them using your own code AND using built-in python (numpy) functions. Compare the two methods to double check your results. (Note: you are still welcome to use functions like np.mean or np.sum in your own calculation.)"
   ]
  },
  {
   "cell_type": "markdown",
   "metadata": {},
   "source": [
    "### (a) Use the sample given to estimate the mean, median, variance and standard deviation of the population.  Compute using your own code, plus built-in functions and compare results to double check."
   ]
  },
  {
   "cell_type": "code",
   "execution_count": null,
   "metadata": {},
   "outputs": [],
   "source": []
  },
  {
   "cell_type": "markdown",
   "metadata": {},
   "source": [
    "<font color=\"red\">*Comments from instructor:*</font>"
   ]
  },
  {
   "cell_type": "markdown",
   "metadata": {},
   "source": [
    "### (b) Again, use the sample given to estimate the mean, median, variance and standard deviation of the population.   Compute using your own code, plus built-in functions and compare results to double check."
   ]
  },
  {
   "cell_type": "code",
   "execution_count": null,
   "metadata": {},
   "outputs": [],
   "source": []
  },
  {
   "cell_type": "markdown",
   "metadata": {},
   "source": [
    "<font color=\"red\">*Comments from instructor:*</font>"
   ]
  },
  {
   "cell_type": "markdown",
   "metadata": {},
   "source": [
    "## Question 3: Chapter 2, exercise 3"
   ]
  },
  {
   "cell_type": "markdown",
   "metadata": {},
   "source": [
    "### Describe your best guess as to the parent distributions of the samples given in the previous question (parts a AND b).  Make sure to state not just the type of distribution, but all of the relevant numerical parameters needed to describe that distribution (for example, if you think it's a Gaussian distribution you should provide the mean and standard deviation of the Gaussian as well.)"
   ]
  },
  {
   "cell_type": "code",
   "execution_count": null,
   "metadata": {},
   "outputs": [],
   "source": []
  },
  {
   "cell_type": "markdown",
   "metadata": {},
   "source": [
    "<font color=\"red\">*Comments from instructor:*</font>"
   ]
  },
  {
   "cell_type": "markdown",
   "metadata": {},
   "source": [
    "## Question 4: Demonstrate the central limit theorem"
   ]
  },
  {
   "cell_type": "markdown",
   "metadata": {},
   "source": [
    "### Use the distributions you found in the last example to demonstrate the central limit theorem.  Use a python function appropriate to represent the population of the first distribution and make a thousand samples of size N = 10 of that population. Use a python plot to show that the means of the samples look like they are coming from a normal distribution with $\\sigma_\\mu = s/\\sqrt{N}$."
   ]
  },
  {
   "cell_type": "markdown",
   "metadata": {},
   "source": [
    "### (a) Demonstrate the central limit theorem for the first distribution from the last question"
   ]
  },
  {
   "cell_type": "code",
   "execution_count": null,
   "metadata": {},
   "outputs": [],
   "source": []
  },
  {
   "cell_type": "markdown",
   "metadata": {},
   "source": [
    "<font color=\"red\">*Comments from instructor:*</font>"
   ]
  },
  {
   "cell_type": "markdown",
   "metadata": {},
   "source": [
    "### (b) Demonstrate the central limit theorem for the second distribution from the last question"
   ]
  },
  {
   "cell_type": "code",
   "execution_count": null,
   "metadata": {},
   "outputs": [],
   "source": []
  },
  {
   "cell_type": "markdown",
   "metadata": {},
   "source": [
    "<font color=\"red\">*Comments from instructor:*</font>"
   ]
  },
  {
   "cell_type": "markdown",
   "metadata": {},
   "source": [
    "## Question 5: Chapter 2, Exercise 6"
   ]
  },
  {
   "cell_type": "markdown",
   "metadata": {},
   "source": [
    "### Define the variable $q=\\log_{10}(M/M_\\oplus)$, where $M$ is the mass of a planet and $M_\\oplus$ is the mass of the Earth  Assume an \"Earthlike\" planet falls in the range $-0.1<q<0.3$.  A certain method for discovering exoplanets yields a distribution of $q$ for discovered objects that is a Gaussian with mean 0.8 and standard deviation 0.6.  Compute how many Earthlike planets you would expect in the next 500 discovered by this method.  Hints: See the example on page 48.  You will also likely want to use the python function norm.cdf, which calculates the integral of the Gaussian pdf from $-\\infty$ to $x$."
   ]
  },
  {
   "cell_type": "code",
   "execution_count": null,
   "metadata": {},
   "outputs": [],
   "source": [
    "from scipy.stats import norm"
   ]
  },
  {
   "cell_type": "code",
   "execution_count": null,
   "metadata": {},
   "outputs": [],
   "source": []
  },
  {
   "cell_type": "markdown",
   "metadata": {},
   "source": [
    "## Question 6: Chapter 2, Exercise 7"
   ]
  },
  {
   "cell_type": "markdown",
   "metadata": {},
   "source": [
    "### An astronomer wishes to make a photon-counting measurement of a star's brightness that has a relative precision (a.k.a. fractional uncertainty) of 5\\%.  "
   ]
  },
  {
   "cell_type": "markdown",
   "metadata": {},
   "source": [
    "### (a) How many photons should she count?"
   ]
  },
  {
   "cell_type": "code",
   "execution_count": null,
   "metadata": {},
   "outputs": [],
   "source": []
  },
  {
   "cell_type": "markdown",
   "metadata": {},
   "source": [
    "<font color=\"red\">*Comments from instructor:*</font>"
   ]
  },
  {
   "cell_type": "markdown",
   "metadata": {},
   "source": [
    "### (b) How many should she count for a relative precision of 0.5\\%?"
   ]
  },
  {
   "cell_type": "code",
   "execution_count": null,
   "metadata": {},
   "outputs": [],
   "source": []
  },
  {
   "cell_type": "markdown",
   "metadata": {},
   "source": [
    "<font color=\"red\">*Comments from instructor:*</font>"
   ]
  },
  {
   "cell_type": "markdown",
   "metadata": {},
   "source": [
    "## Question 7: Chapter 2, Exercise 8"
   ]
  },
  {
   "cell_type": "markdown",
   "metadata": {},
   "source": [
    "### The astronomer in the last question discovers that when she points her telescope to the blank sky near the star she is interested in, she measures a background count that is 50% of what she measures when she points to the star.  She reasons that the brightness of the star is given by star = measurement - background.  Revise your earlier estimate.  How many measurement photons should she count to achieve a relative precision of 5% in her determination of the star brightness?  How many for 0.5%?\n",
    "\n",
    "### For this question, work on paper first, then convert to Markdown. Note that if you find this question easy, you are doing it wrong."
   ]
  },
  {
   "cell_type": "code",
   "execution_count": null,
   "metadata": {},
   "outputs": [],
   "source": []
  },
  {
   "cell_type": "markdown",
   "metadata": {},
   "source": [
    "<font color=\"red\">*Comments from instructor:*</font>"
   ]
  },
  {
   "cell_type": "markdown",
   "metadata": {},
   "source": [
    "## Question 8: Chapter 2, Exercise 9"
   ]
  },
  {
   "cell_type": "markdown",
   "metadata": {},
   "source": [
    "### A star cluster is a collection of gravitationally bound stars. Individual stars in the cluster move about with different velocities but the average of all these should give the velocity of the cluster as a whole.  An astronomer measures the radial velocities of four stars in a cluster that contains 1000 stars.  They are 74, 14, 61 and 57 km/s. How many additional stars should he measure if he wishes to achieve a precision of 2 km/s for the radial velocity of the cluster as a whole?"
   ]
  },
  {
   "cell_type": "code",
   "execution_count": null,
   "metadata": {},
   "outputs": [],
   "source": []
  },
  {
   "cell_type": "markdown",
   "metadata": {},
   "source": [
    "<font color=\"red\">*Comments from instructor:*</font>"
   ]
  },
  {
   "cell_type": "markdown",
   "metadata": {},
   "source": [
    "## <font color=\"red\"> Grade </font>"
   ]
  },
  {
   "cell_type": "markdown",
   "metadata": {},
   "source": [
    "<font color=\"red\"> Calculations: </font>"
   ]
  },
  {
   "cell_type": "markdown",
   "metadata": {},
   "source": [
    "<font color=\"red\"> Concepts: </font>"
   ]
  },
  {
   "cell_type": "markdown",
   "metadata": {},
   "source": [
    "<font color=\"red\"> Communication: </font>"
   ]
  },
  {
   "cell_type": "markdown",
   "metadata": {},
   "source": [
    "<font color=\"red\"> Total grade: </font>"
   ]
  },
  {
   "cell_type": "code",
   "execution_count": null,
   "metadata": {},
   "outputs": [],
   "source": []
  }
 ],
 "metadata": {
  "kernelspec": {
   "display_name": "Python 3",
   "language": "python",
   "name": "python3"
  },
  "language_info": {
   "codemirror_mode": {
    "name": "ipython",
    "version": 3
   },
   "file_extension": ".py",
   "mimetype": "text/x-python",
   "name": "python",
   "nbconvert_exporter": "python",
   "pygments_lexer": "ipython3",
   "version": "3.7.3"
  }
 },
 "nbformat": 4,
 "nbformat_minor": 1
}
