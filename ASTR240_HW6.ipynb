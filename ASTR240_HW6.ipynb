{
  "nbformat": 4,
  "nbformat_minor": 0,
  "metadata": {
    "colab": {
      "provenance": []
    },
    "kernelspec": {
      "name": "python3",
      "display_name": "Python 3"
    },
    "language_info": {
      "name": "python"
    }
  },
  "cells": [
    {
      "cell_type": "markdown",
      "source": [
        "## <font color=\"red\">Student name:</font>"
      ],
      "metadata": {
        "id": "KEjyxSGPsO50"
      }
    },
    {
      "cell_type": "code",
      "source": [
        "#Start all notebooks with this line.  It sets a lot of variables to values we want to use,\n",
        "#and reads in some important packages of routines, too.\n",
        "%pylab inline"
      ],
      "metadata": {
        "id": "UQh8GgOSsR14"
      },
      "execution_count": null,
      "outputs": []
    },
    {
      "cell_type": "markdown",
      "source": [
        "### Question 1: Chapter 5, Exercise 8 \n",
        "\n",
        "### Compute the frame width (in arcmin) and pixel scale, a.k.a., plate scale (in arcsec per pixel) for CCD observations with the following telescope and instrument: aperture 1.0 m, focal ratio f/6.0.  CCD is 1024 x 1024 pixels; each pixel is 18 $\\mu$m square. \n"
      ],
      "metadata": {
        "id": "tfMnTgPGsQI0"
      }
    },
    {
      "cell_type": "code",
      "source": [],
      "metadata": {
        "id": "zGmEaxDCsW4K"
      },
      "execution_count": null,
      "outputs": []
    },
    {
      "cell_type": "markdown",
      "source": [
        "<font color=\"red\">*Comments from instructor:*</font>"
      ],
      "metadata": {
        "id": "V6N0-UuQsbXi"
      }
    },
    {
      "cell_type": "markdown",
      "source": [
        "### Question 2: Chapter 5, Exercise 12, with supplement\n",
        "(a) Compute the diffraction limit of the Hubble Space Telescope (2.4-m diameter) in the ultraviolet (300 nm) and near infrared (2.0 $\\mu$m). \n",
        "\n"
      ],
      "metadata": {
        "id": "c5xrJ6Tuuozh"
      }
    },
    {
      "cell_type": "code",
      "source": [],
      "metadata": {
        "id": "HYRKlo06vTvV"
      },
      "execution_count": null,
      "outputs": []
    },
    {
      "cell_type": "markdown",
      "source": [
        "(b) Compare with the diffraction limit of the human eye at 0.5 $\\mu$m"
      ],
      "metadata": {
        "id": "sHAgccGFvByh"
      }
    },
    {
      "cell_type": "code",
      "source": [],
      "metadata": {
        "id": "e-423xuCvUMO"
      },
      "execution_count": null,
      "outputs": []
    },
    {
      "cell_type": "markdown",
      "source": [
        "(c) Compare with the diffraction limit at 2.0 $\\mu$m of a space telescope that has an 8-m diameter"
      ],
      "metadata": {
        "id": "WhzM3vV6vIQ8"
      }
    },
    {
      "cell_type": "code",
      "source": [],
      "metadata": {
        "id": "Jmp-KZCpvUnC"
      },
      "execution_count": null,
      "outputs": []
    },
    {
      "cell_type": "markdown",
      "source": [
        "(d) Compare with the diffraction limit of a 30-m ground-based telescope at 2.0 $\\mu$m."
      ],
      "metadata": {
        "id": "nzEnE9Ypuy1g"
      }
    },
    {
      "cell_type": "code",
      "source": [],
      "metadata": {
        "id": "QcusDJ7nvVE9"
      },
      "execution_count": null,
      "outputs": []
    },
    {
      "cell_type": "markdown",
      "source": [
        "(e) Discuss what you learned"
      ],
      "metadata": {
        "id": "Ey6zB_Xkuwr4"
      }
    },
    {
      "cell_type": "markdown",
      "source": [],
      "metadata": {
        "id": "l2-o-NXpu1pn"
      }
    },
    {
      "cell_type": "markdown",
      "source": [
        "<font color=\"red\">*Comments from instructor:*</font>\n",
        "\n"
      ],
      "metadata": {
        "id": "A46r3yS3u10H"
      }
    },
    {
      "cell_type": "markdown",
      "source": [
        "### Question 3: \n",
        "\n",
        "Suppose you are trying to image a planet orbiting a star with the Hubble Space Telescope.  The star (and planet) are at a distance from us of 100 parsec.  What is the smallest separation between the planet and star (in Astronomical Units) that would allow you to separate the planet from the star in an image?  Assume you are observing at a wavelength of 300 nm.\n",
        "\n"
      ],
      "metadata": {
        "id": "U3AwybHBviuo"
      }
    },
    {
      "cell_type": "code",
      "source": [],
      "metadata": {
        "id": "138ybvyovsAy"
      },
      "execution_count": null,
      "outputs": []
    },
    {
      "cell_type": "markdown",
      "source": [
        "<font color=\"red\">*Comments from instructor:*</font>\n",
        "\n"
      ],
      "metadata": {
        "id": "EFA47qDovssF"
      }
    },
    {
      "cell_type": "markdown",
      "source": [
        "### Question 4:\n",
        "\n",
        "(a) In question 2 (Chapter 5, Exercise 12), you found the diffraction limit at 300 nm of the Hubble Space Telescope, which has a primary mirror with diameter 2.4 meters.  The Atacama Large Millimeter Array (ALMA) is a millimeter-wave interferometer, which combines the light from multiple small telescopes.  For interferometers, the diffraction limit is set by the longest distance between any two telescopes.  This distance is called a baseline length, which we'll call B.  Calculate B required for ALMA to have the same diffraction limit as the Hubble Space Telescope, if ALMA observes at a wavelength of 1 mm.    Read about the baseline lengths on the ALMA Wikipedia page to check that your answer makes sense.  "
      ],
      "metadata": {
        "id": "aU9vXW74vwLk"
      }
    },
    {
      "cell_type": "code",
      "source": [],
      "metadata": {
        "id": "b7K9mj5LwAux"
      },
      "execution_count": null,
      "outputs": []
    },
    {
      "cell_type": "markdown",
      "source": [
        "(b) Comment on your answer.  Would it have been feasible to build a solid telescope with a diameter equal to this baseline length?  "
      ],
      "metadata": {
        "id": "0hXwFHL8wBBW"
      }
    },
    {
      "cell_type": "code",
      "source": [],
      "metadata": {
        "id": "s55ju749wDp9"
      },
      "execution_count": null,
      "outputs": []
    },
    {
      "cell_type": "markdown",
      "source": [
        "<font color=\"red\">*Comments from instructor:*</font>"
      ],
      "metadata": {
        "id": "a0cD8igDwEs1"
      }
    },
    {
      "cell_type": "markdown",
      "source": [
        "## Question 5:\n",
        "\n",
        "(a) Compute the diffraction limit (in arcsec) for the Vassar Class of 1951 observatory telescope, which has a 32'' (inch) primary mirror.   Assume you are observing at visible wavelengths, $\\lambda\\approx 0.6 \\,\\mu$m. \n"
      ],
      "metadata": {
        "id": "6gTNUNh-wIfE"
      }
    },
    {
      "cell_type": "code",
      "source": [],
      "metadata": {
        "id": "Y25sY5slwbTL"
      },
      "execution_count": null,
      "outputs": []
    },
    {
      "cell_type": "markdown",
      "source": [
        "(b) Compare your answer to (a) to the typical size of a seeing-limited image at the observatory, which is about 2'' (arcsec).  Is the Class of 1951 observatory \"seeing-limited\" or \"diffraction-limited\"?"
      ],
      "metadata": {
        "id": "sBUhA9edwkZD"
      }
    },
    {
      "cell_type": "markdown",
      "source": [],
      "metadata": {
        "id": "T8R3iB4twq1W"
      }
    },
    {
      "cell_type": "markdown",
      "source": [
        "<font color=\"red\">*Comments from instructor:*</font>"
      ],
      "metadata": {
        "id": "MMKGwDBqwryZ"
      }
    },
    {
      "cell_type": "markdown",
      "source": [
        "### <font color=\"red\"> Grade </font>"
      ],
      "metadata": {
        "id": "veEQYBsXsh1p"
      }
    },
    {
      "cell_type": "markdown",
      "source": [
        "<font color=\"red\"> Calculations: </font>"
      ],
      "metadata": {
        "id": "qJCJzR9Xsk0p"
      }
    },
    {
      "cell_type": "markdown",
      "source": [
        "<font color=\"red\"> Concepts: </font>"
      ],
      "metadata": {
        "id": "3s1kbXr0slnQ"
      }
    },
    {
      "cell_type": "markdown",
      "source": [
        "<font color=\"red\"> Communication: </font>"
      ],
      "metadata": {
        "id": "rBCqUPeysl_M"
      }
    },
    {
      "cell_type": "markdown",
      "source": [
        "<font color=\"red\"> Total grade: </font>"
      ],
      "metadata": {
        "id": "fOf_9vIZsmXb"
      }
    }
  ]
}